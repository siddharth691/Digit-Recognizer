{
 "cells": [
  {
   "cell_type": "code",
   "execution_count": 1,
   "metadata": {
    "collapsed": false
   },
   "outputs": [],
   "source": [
    "#importing libraries\n",
    "import numpy as np\n",
    "import pandas as pd\n",
    "import random\n",
    "import matplotlib.pyplot as plt\n",
    "import matplotlib as mpl\n",
    "import time\n",
    "from sklearn.svm import SVC\n",
    "from sklearn.model_selection import cross_val_score\n",
    "%matplotlib inline"
   ]
  },
  {
   "cell_type": "code",
   "execution_count": 2,
   "metadata": {
    "collapsed": true
   },
   "outputs": [],
   "source": [
    "#importing files in pandas dataframe\n",
    "train = pd.read_csv('train.csv',header=0)\n",
    "test = pd.read_csv('test.csv',header = 0)\n",
    "labels = train['label']\n",
    "train.drop('label',axis=1, inplace =True)\n",
    "#test shape =(28000,784), train shape =(42000,784), labels shape = (42000,1)"
   ]
  },
  {
   "cell_type": "code",
   "execution_count": 3,
   "metadata": {
    "collapsed": false
   },
   "outputs": [],
   "source": [
    "#Converting dataframes into numpy arrays\n",
    "train = train.as_matrix()\n",
    "test = test.as_matrix()\n",
    "labels = labels.as_matrix()"
   ]
  },
  {
   "cell_type": "code",
   "execution_count": 4,
   "metadata": {
    "collapsed": false
   },
   "outputs": [
    {
     "data": {
      "image/png": "[encoded data removed]",
      "text/plain": [
       "<matplotlib.figure.Figure at 0x2857ca27438>"
      ]
     },
     "metadata": {},
     "output_type": "display_data"
    },
    {
     "name": "stdout",
     "output_type": "stream",
     "text": [
      "Labels: [1, 4, 7, 0, 3]\n"
     ]
    }
   ],
   "source": [
    "#Visualization of few random hand written digits\n",
    "fig = plt.figure()\n",
    "randLabels = []\n",
    "for i in range(1,6):\n",
    "    k = random.randrange(0,42000,10)\n",
    "    ax = fig.add_subplot(1,5,i)\n",
    "    ax.imshow(train[k,:].reshape(28,28),'gray')\n",
    "    ax.axis('off')\n",
    "    randLabels.append(labels[k])\n",
    "plt.show()\n",
    "print('Labels: {}'.format(randLabels))"
   ]
  },
  {
   "cell_type": "code",
   "execution_count": null,
   "metadata": {
    "collapsed": false
   },
   "outputs": [],
   "source": [
    "#Trying SVM classifier\n",
    "clf =SVC()\n",
    "t0 = time.time()\n",
    "scores = cross_val_score(clf, train, labels, cv=5)\n",
    "acc = np.mean(scores)\n",
    "t1 = time.time()\n",
    "print('Mean 5-fold Cross-Validation Accuracy: {}'.format(acc))\n",
    "print('Total training and cross-validation accuracy calculation time: {}'.format(np.abs(t1-t0)))"
   ]
  },
  {
   "cell_type": "code",
   "execution_count": null,
   "metadata": {
    "collapsed": true
   },
   "outputs": [],
   "source": []
  }
 ],
 "metadata": {
  "anaconda-cloud": {},
  "kernelspec": {
   "display_name": "Python [conda root]",
   "language": "python",
   "name": "conda-root-py"
  },
  "language_info": {
   "codemirror_mode": {
    "name": "ipython",
    "version": 3
   },
   "file_extension": ".py",
   "mimetype": "text/x-python",
   "name": "python",
   "nbconvert_exporter": "python",
   "pygments_lexer": "ipython3",
   "version": "3.5.2"
  }
 },
 "nbformat": 4,
 "nbformat_minor": 1
}
