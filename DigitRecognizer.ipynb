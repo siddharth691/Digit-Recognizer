{
 "cells": [
  {
   "cell_type": "code",
   "execution_count": 29,
   "metadata": {
    "collapsed": false
   },
   "outputs": [],
   "source": [
    "#importing libraries\n",
    "import numpy as np\n",
    "import pandas as pd\n",
    "import random\n",
    "import matplotlib.pyplot as plt\n",
    "import matplotlib as mpl\n",
    "import time\n",
    "from sklearn.svm import SVC\n",
    "from sklearn.model_selection import cross_val_score\n",
    "from sklearn.cross_validation import train_test_split\n",
    "from sklearn.decomposition import PCA\n",
    "from sklearn.metrics import accuracy_score\n",
    "%matplotlib inline"
   ]
  },
  {
   "cell_type": "code",
   "execution_count": 30,
   "metadata": {
    "collapsed": true
   },
   "outputs": [],
   "source": [
    "#importing files in pandas dataframe\n",
    "train = pd.read_csv('train.csv',header=0)\n",
    "test = pd.read_csv('test.csv',header = 0)\n",
    "labels = train['label']\n",
    "train.drop('label',axis=1, inplace =True)\n",
    "#test shape =(28000,784), train shape =(42000,784), labels shape = (42000,1)"
   ]
  },
  {
   "cell_type": "code",
   "execution_count": 35,
   "metadata": {
    "collapsed": false
   },
   "outputs": [],
   "source": [
    "#Converting dataframes into numpy arrays\n",
    "train = train.as_matrix()\n",
    "test = test.as_matrix()\n",
    "labels = labels.as_matrix()"
   ]
  },
  {
   "cell_type": "code",
   "execution_count": 36,
   "metadata": {
    "collapsed": false,
    "scrolled": false
   },
   "outputs": [
    {
     "data": {
      "image/png": "[encoded data removed]",
      "text/plain": [
       "<matplotlib.figure.Figure at 0x1b5021c0860>"
      ]
     },
     "metadata": {},
     "output_type": "display_data"
    },
    {
     "name": "stdout",
     "output_type": "stream",
     "text": [
      "Labels: [7, 6, 6, 1, 9]\n"
     ]
    }
   ],
   "source": [
    "#Visualization of few random hand written digits\n",
    "fig = plt.figure()\n",
    "randLabels = []\n",
    "for i in range(1,6):\n",
    "    k = random.randrange(0,42000,10)\n",
    "    ax = fig.add_subplot(1,5,i)\n",
    "    ax.imshow(train[k,:].reshape(28,28),'gray')\n",
    "    ax.axis('off')\n",
    "    randLabels.append(labels[k])\n",
    "plt.show()\n",
    "print('Labels: {}'.format(randLabels))"
   ]
  },
  {
   "cell_type": "code",
   "execution_count": 37,
   "metadata": {
    "collapsed": false,
    "scrolled": true
   },
   "outputs": [
    {
     "name": "stdout",
     "output_type": "stream",
     "text": [
      "(31500, 784)\n",
      "(10500, 784)\n",
      "(31500,)\n",
      "(10500,)\n"
     ]
    }
   ],
   "source": [
    "#Splitting training dataset into cross-validation dataset(Using normal splitting instead of 5 fold cross validation)\n",
    "train, valid, labels, validLabels = train_test_split(train, labels, test_size = 0.25)\n",
    "#Checking sizes of training and validation datasets\n",
    "print(np.shape(train))\n",
    "print(np.shape(valid))\n",
    "print(np.shape(labels))\n",
    "print(np.shape(validLabels))"
   ]
  },
  {
   "cell_type": "code",
   "execution_count": 38,
   "metadata": {
    "collapsed": false
   },
   "outputs": [],
   "source": [
    "#PreProcessing(Data Compression)\n",
    "pca = PCA()\n",
    "pca.fit(train)\n",
    "VarianceRatio = pca.explained_variance_ratio_"
   ]
  },
  {
   "cell_type": "code",
   "execution_count": 39,
   "metadata": {
    "collapsed": false
   },
   "outputs": [
    {
     "name": "stdout",
     "output_type": "stream",
     "text": [
      "Total Retained Variance: 0.8509447525350505\n",
      "Number of principal components 58\n"
     ]
    }
   ],
   "source": [
    "#Finding number of principal components\n",
    "#Retaining 85% of total variance \n",
    "TotVar = 0 \n",
    "for idx, Var in enumerate(VarianceRatio):\n",
    "    TotVar += Var \n",
    "    if(TotVar>=0.85): \n",
    "        break \n",
    "print('Total Retained Variance: {}'.format(TotVar)) \n",
    "print('Number of principal components {}'.format(idx))"
   ]
  },
  {
   "cell_type": "code",
   "execution_count": 40,
   "metadata": {
    "collapsed": true
   },
   "outputs": [],
   "source": [
    "#Again fitting pca for 153 principal components\n",
    "pcaRed = PCA(n_components = 58)\n",
    "pcaRed.fit(train)\n",
    "#Compressing training and testing data using fitted data\n",
    "train = pcaRed.fit_transform(train)\n",
    "test = pcaRed.fit_transform(test)\n",
    "valid = pcaRed.fit_transform(valid)"
   ]
  },
  {
   "cell_type": "code",
   "execution_count": 28,
   "metadata": {
    "collapsed": false
   },
   "outputs": [
    {
     "name": "stdout",
     "output_type": "stream",
     "text": [
      "Training and cross-validation accuracy are : 1.0 and 0.11419047619047619\n",
      "Total training and cross-validation accuracy calculation time: 1321.326274394989\n"
     ]
    }
   ],
   "source": [
    "#Trying SVM classifier\n",
    "clf =SVC(C=1000)\n",
    "t0 = time.time()\n",
    "clf.fit(train, labels)\n",
    "TrainPred = clf.predict(train)\n",
    "TrainScore = accuracy_score(labels,TrainPred)\n",
    "ValidPred = clf.predict(valid)\n",
    "ValidScore = accuracy_score(validLabels,ValidPred)\n",
    "t1 = time.time()\n",
    "print('Training and cross-validation accuracy are : {} and {}'.format(TrainScore, ValidScore ))\n",
    "print('Total training and cross-validation accuracy calculation time: {}'.format(np.abs(t1-t0)))"
   ]
  },
  {
   "cell_type": "code",
   "execution_count": 66,
   "metadata": {
    "collapsed": false
   },
   "outputs": [
    {
     "name": "stdout",
     "output_type": "stream",
     "text": [
      "[1 1 1 ..., 1 1 1]\n",
      "[1 1 1 ..., 1 1 1]\n"
     ]
    }
   ],
   "source": [
    "#classifier is predicting all samples as 1, \n",
    "#as train dataset is particularly skewed towards label '1' with '3496' samples, max of other labels\n",
    "#therefore more tuning needs to be done as classifier is poorly tuned\n",
    "print(TrainPred)\n",
    "print(ValidPred)"
   ]
  },
  {
   "cell_type": "code",
   "execution_count": 41,
   "metadata": {
    "collapsed": true
   },
   "outputs": [],
   "source": [
    "#using classifier to predict test images on public leader board\n",
    "pred = clf.predict(test)\n",
    "dfPred = pd.read_csv('sample_submission.csv',header=0)\n",
    "dfPred['Label']= pd.DataFrame(pred)\n",
    "dfPred.to_csv('mySubmission.csv', index=False)"
   ]
  }
 ],
 "metadata": {
  "anaconda-cloud": {},
  "kernelspec": {
   "display_name": "Python [conda root]",
   "language": "python",
   "name": "conda-root-py"
  },
  "language_info": {
   "codemirror_mode": {
    "name": "ipython",
    "version": 3
   },
   "file_extension": ".py",
   "mimetype": "text/x-python",
   "name": "python",
   "nbconvert_exporter": "python",
   "pygments_lexer": "ipython3",
   "version": "3.5.2"
  }
 },
 "nbformat": 4,
 "nbformat_minor": 1
}
