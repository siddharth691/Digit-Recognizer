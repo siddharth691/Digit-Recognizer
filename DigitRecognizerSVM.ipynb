{
 "cells": [
  {
   "cell_type": "code",
   "execution_count": 224,
   "metadata": {
    "collapsed": false
   },
   "outputs": [],
   "source": [
    "#importing libraries\n",
    "import numpy as np\n",
    "import pandas as pd\n",
    "import random\n",
    "import matplotlib.pyplot as plt\n",
    "import matplotlib as mpl\n",
    "import time\n",
    "from sklearn.svm import SVC\n",
    "from sklearn.ensemble import RandomForestClassifier\n",
    "from sklearn.model_selection import cross_val_score\n",
    "from sklearn.model_selection import learning_curve\n",
    "from sklearn.cross_validation import train_test_split\n",
    "from sklearn.decomposition import PCA\n",
    "from sklearn import preprocessing\n",
    "from sklearn.metrics import accuracy_score\n",
    "from sklearn.model_selection import GridSearchCV\n",
    "from sklearn.model_selection import ShuffleSplit\n",
    "%matplotlib inline"
   ]
  },
  {
   "cell_type": "code",
   "execution_count": 225,
   "metadata": {
    "collapsed": true
   },
   "outputs": [],
   "source": [
    "#importing files in pandas dataframe\n",
    "train = pd.read_csv('train.csv',header=0)\n",
    "trainOrig = train\n",
    "test = pd.read_csv('test.csv',header = 0)\n",
    "testOrig = test\n",
    "labels = train['label']\n",
    "labelsOrig = labels\n",
    "train.drop('label',axis=1, inplace =True)\n",
    "#test shape =(28000,784), train shape =(42000,784), labels shape = (42000,1)"
   ]
  },
  {
   "cell_type": "code",
   "execution_count": 226,
   "metadata": {
    "collapsed": false
   },
   "outputs": [],
   "source": [
    "#Converting dataframes into numpy arrays\n",
    "train = train.as_matrix()\n",
    "test = test.as_matrix()\n",
    "labels = labels.as_matrix()"
   ]
  },
  {
   "cell_type": "code",
   "execution_count": 227,
   "metadata": {
    "collapsed": false,
    "scrolled": false
   },
   "outputs": [
    {
     "data": {
      "image/png": "[encoded data removed]",
      "text/plain": [
       "<matplotlib.figure.Figure at 0x1d60a0e0cf8>"
      ]
     },
     "metadata": {},
     "output_type": "display_data"
    },
    {
     "name": "stdout",
     "output_type": "stream",
     "text": [
      "Labels: [7, 0, 1, 7, 7]\n"
     ]
    }
   ],
   "source": [
    "#Visualization of few random hand written digits\n",
    "fig = plt.figure()\n",
    "randLabels = []\n",
    "for i in range(1,6):\n",
    "    k = random.randrange(0,42000,10)\n",
    "    ax = fig.add_subplot(1,5,i)\n",
    "    ax.imshow(train[k,:].reshape(28,28),'gray')\n",
    "    ax.axis('off')\n",
    "    randLabels.append(labels[k])\n",
    "plt.show()\n",
    "print('Labels: {}'.format(randLabels))"
   ]
  },
  {
   "cell_type": "code",
   "execution_count": 228,
   "metadata": {
    "collapsed": false,
    "scrolled": true
   },
   "outputs": [
    {
     "name": "stdout",
     "output_type": "stream",
     "text": [
      "(31500, 784)\n",
      "(10500, 784)\n",
      "(31500,)\n",
      "(10500,)\n"
     ]
    }
   ],
   "source": [
    "#Splitting training dataset into cross-validation dataset(Using normal splitting instead of 5 fold cross validation)\n",
    "train, valid, labels, validLabels = train_test_split(train, labels, test_size = 0.25, random_state=42)\n",
    "#Checking sizes of training and validation datasets\n",
    "print(np.shape(train))\n",
    "print(np.shape(valid))\n",
    "print(np.shape(labels))\n",
    "print(np.shape(validLabels))"
   ]
  },
  {
   "cell_type": "code",
   "execution_count": 229,
   "metadata": {
    "collapsed": false
   },
   "outputs": [],
   "source": [
    "#PreProcessing(Data Compression)\n",
    "pca = PCA()\n",
    "pca.fit(train)\n",
    "VarianceRatio = pca.explained_variance_ratio_"
   ]
  },
  {
   "cell_type": "code",
   "execution_count": 230,
   "metadata": {
    "collapsed": false
   },
   "outputs": [
    {
     "name": "stdout",
     "output_type": "stream",
     "text": [
      "Total Retained Variance: 0.800694921158514\n",
      "Number of principal components 42\n"
     ]
    }
   ],
   "source": [
    "#Finding number of principal components\n",
    "#Retaining 80% of total variance \n",
    "TotVar = 0 \n",
    "for idx, Var in enumerate(VarianceRatio):\n",
    "    TotVar += Var \n",
    "    if(TotVar>=0.80): \n",
    "        break \n",
    "print('Total Retained Variance: {}'.format(TotVar)) \n",
    "print('Number of principal components {}'.format(idx))"
   ]
  },
  {
   "cell_type": "code",
   "execution_count": 231,
   "metadata": {
    "collapsed": true
   },
   "outputs": [],
   "source": [
    "#Again fitting pca for 153 principal components\n",
    "pcaRed = PCA(n_components = 42,whiten= True)\n",
    "pcaRed.fit(train)\n",
    "#Compressing training and testing data using fitted data\n",
    "train = pcaRed.transform(train)\n",
    "test = pcaRed.transform(test)\n",
    "valid = pcaRed.transform(valid)"
   ]
  },
  {
   "cell_type": "code",
   "execution_count": 232,
   "metadata": {
    "collapsed": true
   },
   "outputs": [],
   "source": [
    "combined = np.concatenate((train,valid), axis =0)\n",
    "combinedLabels = np.concatenate((labels, validLabels), axis=0)"
   ]
  },
  {
   "cell_type": "code",
   "execution_count": 60,
   "metadata": {
    "collapsed": false
   },
   "outputs": [
    {
     "name": "stdout",
     "output_type": "stream",
     "text": [
      "Best score: 0.951\n",
      "Best parameters: {'C': 50.0, 'gamma': 0.042222222222222223}\n"
     ]
    }
   ],
   "source": [
    "#Grid Search on smaller subset of training data\n",
    "clf = SVC(kernel = 'rbf')\n",
    "RandInd = np.random.choice(42000,10000)\n",
    "Rtrain = combined[RandInd,:]\n",
    "Rlabels = combinedLabels[RandInd]\n",
    "parameter_grid = {\n",
    "                 'C' : np.linspace(50,100,10),\n",
    "                 'gamma': np.linspace(0.02,0.07,10)\n",
    "                 }\n",
    "grid_search = GridSearchCV(clf, param_grid=parameter_grid, cv=3)\n",
    "grid_search.fit(Rtrain, Rlabels)\n",
    "print('Best score: {}'.format(grid_search.best_score_))\n",
    "print('Best parameters: {}'.format(grid_search.best_params_))"
   ]
  },
  {
   "cell_type": "code",
   "execution_count": 61,
   "metadata": {
    "collapsed": false
   },
   "outputs": [
    {
     "name": "stdout",
     "output_type": "stream",
     "text": [
      "Cross-validation accuracy are : 0.950700061782796\n",
      "Total training and cross-validation accuracy calculation time: 40.60600686073303\n"
     ]
    }
   ],
   "source": [
    "# Training using random subset of training dataset\n",
    "RandInd = np.random.choice(42000,10000)\n",
    "Rtrain = combined[RandInd,:]\n",
    "Rlabels = combinedLabels[RandInd]\n",
    "t0 = time.time()\n",
    "clf = SVC(kernel = 'rbf', C = 50, gamma = 0.042222222222222223)\n",
    "RValidScore = np.mean(cross_val_score(clf,Rtrain,Rlabels, cv=3))\n",
    "t1 = time.time()\n",
    "print('Cross-validation accuracy are : {}'.format(RValidScore))\n",
    "print('Total training and cross-validation accuracy calculation time: {}'.format(np.abs(t1-t0)))"
   ]
  },
  {
   "cell_type": "code",
   "execution_count": 172,
   "metadata": {
    "collapsed": false,
    "scrolled": true
   },
   "outputs": [
    {
     "data": {
      "image/png": "[encoded data removed]",
      "text/plain": [
       "<matplotlib.figure.Figure at 0x1d609eb44e0>"
      ]
     },
     "metadata": {},
     "output_type": "display_data"
    }
   ],
   "source": [
    "#Learning Curve \n",
    "clf = SVC(kernel = 'rbf', C = 55, gamma = 0.0373157)\n",
    "train_sizes, train_scores, test_scores = learning_curve(clf,combined,combinedLabels,train_sizes = np.array([0.1, 0.238, 0.4, 0.55, 0.65, 0.8, 1]),cv = 3)\n",
    "train_score_mean = np.mean(train_scores,axis=1)\n",
    "test_score_mean = np.mean(test_scores,axis=1)\n",
    "plt.plot(train_sizes,train_score_mean)\n",
    "plt.plot(train_sizes, test_score_mean)\n",
    "plt.show()"
   ]
  },
  {
   "cell_type": "code",
   "execution_count": null,
   "metadata": {
    "collapsed": true
   },
   "outputs": [],
   "source": [
    "#Since it is still high variance problem, there's overfitting on the leaderboard\n",
    "#Hence training size need to be increased, and gamma should be decreased\n",
    "#Testing using gamma = 0.0000238 (1/no. of features or 'auto'), C = 1 (Default SVM in sklearn)\n",
    "#Plotting Learning\n",
    "clf = SVC()\n",
    "train_sizes, Def_train_scores, Def_test_scores = learning_curve(clf,combined,combinedLabels,train_sizes = np.array([0.8, 1]),cv = 10)\n",
    "Def_train_score_mean = np.mean(Def_train_scores,axis=1)\n",
    "Def_test_score_mean = np.mean(Def_test_scores,axis=1)"
   ]
  },
  {
   "cell_type": "code",
   "execution_count": 190,
   "metadata": {
    "collapsed": false,
    "scrolled": true
   },
   "outputs": [
    {
     "data": {
      "image/png": "[encoded data removed]",
      "text/plain": [
       "<matplotlib.figure.Figure at 0x1d61cc8b860>"
      ]
     },
     "metadata": {},
     "output_type": "display_data"
    }
   ],
   "source": [
    "plt.plot(train_sizes,Def_train_score_mean)\n",
    "plt.plot(train_sizes, Def_test_score_mean)\n",
    "plt.show()"
   ]
  },
  {
   "cell_type": "code",
   "execution_count": 233,
   "metadata": {
    "collapsed": false
   },
   "outputs": [],
   "source": [
    "#using classifier to predict test images on public leader board\n",
    "trainOrig = trainOrig.as_matrix()\n",
    "testOrig = testOrig.as_matrix()\n",
    "labelsOrig = labelsOrig.as_matrix()\n",
    "pca = PCA(n_components = 42, whiten = True)\n",
    "pca.fit(trainOrig)\n",
    "trainOrig = pcaRed.transform(trainOrig)\n",
    "testOrig = pcaRed.transform(testOrig)\n",
    "clf = SVC(kernel = 'rbf', C = 1, gamma = 'auto')\n",
    "clf.fit(trainOrig,labelsOrig)\n",
    "pred = clf.predict(testOrig)\n",
    "dfPred = pd.read_csv('sample_submission.csv',header=0)\n",
    "dfPred['Label']= pd.DataFrame(pred)\n",
    "dfPred.to_csv('mySubmission.csv', index=False)\n",
    "#98.229% LeaderBoard Accuracy"
   ]
  },
  {
   "cell_type": "code",
   "execution_count": null,
   "metadata": {
    "collapsed": true
   },
   "outputs": [],
   "source": []
  }
 ],
 "metadata": {
  "anaconda-cloud": {},
  "kernelspec": {
   "display_name": "Python [conda root]",
   "language": "python",
   "name": "conda-root-py"
  },
  "language_info": {
   "codemirror_mode": {
    "name": "ipython",
    "version": 3
   },
   "file_extension": ".py",
   "mimetype": "text/x-python",
   "name": "python",
   "nbconvert_exporter": "python",
   "pygments_lexer": "ipython3",
   "version": "3.5.2"
  }
 },
 "nbformat": 4,
 "nbformat_minor": 1
}
